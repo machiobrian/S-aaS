{
 "cells": [
  {
   "cell_type": "code",
   "execution_count": 1,
   "metadata": {},
   "outputs": [
    {
     "name": "stdout",
     "output_type": "stream",
     "text": [
      "['apple', 'banana', 'mangoes']\n"
     ]
    }
   ],
   "source": [
    "#List Comprehension\n",
    "\n",
    "# -> offers a shorter syntax to create a new list from an existing list\n",
    "# based on an existing list of fruits, we will want a new list that contains only the \n",
    "# fruits with the letter a in it\n",
    "\n",
    "fruits = [\"apple\", \"banana\", \"mangoes\",  \"cherry\", \"kiwi\"]\n",
    "newlist = [] #initialize an empty array\n",
    "\n",
    "#eliminates the need of writong a for function\n",
    "for x in fruits:\n",
    "    if \"a\" in x:\n",
    "        newlist.append(x)\n",
    "\n",
    "print(newlist)\n"
   ]
  },
  {
   "cell_type": "code",
   "execution_count": 2,
   "metadata": {},
   "outputs": [
    {
     "name": "stdout",
     "output_type": "stream",
     "text": [
      "['apple', 'banana', 'mangoes']\n"
     ]
    }
   ],
   "source": [
    "# List Comprehension\n",
    "\n",
    "new_list = [x for x in fruits if \"a\" in x]\n",
    "print(new_list)"
   ]
  },
  {
   "cell_type": "code",
   "execution_count": 4,
   "metadata": {},
   "outputs": [],
   "source": [
    "import os\n",
    "import openai\n",
    "key = openai.api_key = os.getenv(\"OPEN_API_KEY\")"
   ]
  },
  {
   "cell_type": "code",
   "execution_count": 5,
   "metadata": {},
   "outputs": [
    {
     "name": "stdout",
     "output_type": "stream",
     "text": [
      "None\n"
     ]
    }
   ],
   "source": [
    "print(key)"
   ]
  },
  {
   "cell_type": "code",
   "execution_count": null,
   "metadata": {},
   "outputs": [],
   "source": []
  }
 ],
 "metadata": {
  "kernelspec": {
   "display_name": "Python 3.10.6 ('open_ai')",
   "language": "python",
   "name": "python3"
  },
  "language_info": {
   "codemirror_mode": {
    "name": "ipython",
    "version": 3
   },
   "file_extension": ".py",
   "mimetype": "text/x-python",
   "name": "python",
   "nbconvert_exporter": "python",
   "pygments_lexer": "ipython3",
   "version": "3.10.6"
  },
  "orig_nbformat": 4,
  "vscode": {
   "interpreter": {
    "hash": "8efddce8588d88617fd9cc6d077215ad95c8428f87c953b0a33b905115f47b2d"
   }
  }
 },
 "nbformat": 4,
 "nbformat_minor": 2
}
